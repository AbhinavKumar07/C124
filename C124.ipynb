{
  "nbformat": 4,
  "nbformat_minor": 0,
  "metadata": {
    "colab": {
      "provenance": [],
      "authorship_tag": "ABX9TyPK9VG5zDAzmba3CnC0EOBE",
      "include_colab_link": true
    },
    "kernelspec": {
      "name": "python3",
      "display_name": "Python 3"
    },
    "language_info": {
      "name": "python"
    }
  },
  "cells": [
    {
      "cell_type": "markdown",
      "metadata": {
        "id": "view-in-github",
        "colab_type": "text"
      },
      "source": [
        "<a href=\"https://colab.research.google.com/github/AbhinavKumar07/C124/blob/main/C124.ipynb\" target=\"_parent\"><img src=\"https://colab.research.google.com/assets/colab-badge.svg\" alt=\"Open In Colab\"/></a>"
      ]
    },
    {
      "cell_type": "code",
      "execution_count": 7,
      "metadata": {
        "colab": {
          "base_uri": "https://localhost:8080/"
        },
        "id": "8_DwVHh-aYvv",
        "outputId": "2312f2a5-e14e-417f-e13d-766f8ce82888"
      },
      "outputs": [
        {
          "output_type": "stream",
          "name": "stdout",
          "text": [
            "[2, 4, 4, 6, 9, 3]\n",
            "9\n"
          ]
        }
      ],
      "source": [
        "A = [2, 4, 4, 6, 9, 3]\n",
        "print(A)\n",
        "\n",
        "print(A[4])"
      ]
    },
    {
      "cell_type": "code",
      "source": [
        "B = [[1,4,6], [3,4,9] , [2,6,8]]\n",
        "print(B)\n",
        "\n",
        "print(B[0][0])\n",
        "print(B[2][2])"
      ],
      "metadata": {
        "colab": {
          "base_uri": "https://localhost:8080/"
        },
        "id": "FJELeFcYauPM",
        "outputId": "7501d909-fa5e-49a1-d119-96117b74a2be"
      },
      "execution_count": 9,
      "outputs": [
        {
          "output_type": "stream",
          "name": "stdout",
          "text": [
            "[[1, 4, 6], [3, 4, 9], [2, 6, 8]]\n",
            "1\n",
            "8\n"
          ]
        }
      ]
    },
    {
      "cell_type": "code",
      "source": [
        "import numpy as np\n",
        "\n",
        "a = np.array([3,5,6,3,86])\n",
        "print(a)\n",
        "\n",
        "print(type(a))"
      ],
      "metadata": {
        "colab": {
          "base_uri": "https://localhost:8080/"
        },
        "id": "KzpGBDgQbhL9",
        "outputId": "0f7a074b-f41e-4413-bb78-35f5990fd2b5"
      },
      "execution_count": 4,
      "outputs": [
        {
          "output_type": "stream",
          "name": "stdout",
          "text": [
            "[ 3  5  6  3 86]\n",
            "<class 'numpy.ndarray'>\n"
          ]
        }
      ]
    },
    {
      "cell_type": "code",
      "source": [
        "a_2d = np.array([[3,4,32],['abhinav',16,True],[24,68,39]])\n",
        "print(a_2d)\n",
        "print(a_2d[1][0])"
      ],
      "metadata": {
        "colab": {
          "base_uri": "https://localhost:8080/"
        },
        "id": "QXky7JLdb7Wg",
        "outputId": "f8f817bc-e076-4846-9493-a606647be331"
      },
      "execution_count": 10,
      "outputs": [
        {
          "output_type": "stream",
          "name": "stdout",
          "text": [
            "[['3' '4' '32']\n",
            " ['abhinav' '16' 'True']\n",
            " ['24' '68' '39']]\n",
            "abhinav\n"
          ]
        }
      ]
    },
    {
      "cell_type": "code",
      "source": [
        "cities = np.array([\"Bangalore\", \"Delhi\" , \"San Franscisco\"])\n",
        "print(cities[1])"
      ],
      "metadata": {
        "colab": {
          "base_uri": "https://localhost:8080/"
        },
        "id": "DogmcoaVcyHG",
        "outputId": "0d596593-f6bb-451b-e3a4-cc649d47cc38"
      },
      "execution_count": 6,
      "outputs": [
        {
          "output_type": "stream",
          "name": "stdout",
          "text": [
            "Delhi\n"
          ]
        }
      ]
    },
    {
      "cell_type": "code",
      "source": [
        "a_2d = np.array([[3,4,32],['abhinav',16,True],[24,68,39]])\n",
        "a_2d[2,2] = 100\n",
        "print(a_2d)"
      ],
      "metadata": {
        "colab": {
          "base_uri": "https://localhost:8080/"
        },
        "id": "cTejZvAyeNcH",
        "outputId": "daa2cc70-3c58-436f-a982-e323be5bfc7e"
      },
      "execution_count": 11,
      "outputs": [
        {
          "output_type": "stream",
          "name": "stdout",
          "text": [
            "[['3' '4' '32']\n",
            " ['abhinav' '16' 'True']\n",
            " ['24' '68' '100']]\n"
          ]
        }
      ]
    },
    {
      "cell_type": "code",
      "source": [
        "x = np.array([[2,5] , [45,33]])\n",
        "y = np.array([[23,54] , [445,333]])\n",
        "\n",
        "rows = 2\n",
        "cols = 2\n",
        "\n",
        "z = [[0,0],[0,0]]\n",
        "\n",
        "for i in range(rows):\n",
        "  for j in range(cols):\n",
        "    z[i][j] = x[i][j] + y[i][j]\n",
        "\n",
        "print(x,\"\\n\")\n",
        "print(y,\"\\n\")\n",
        "print(z)"
      ],
      "metadata": {
        "colab": {
          "base_uri": "https://localhost:8080/"
        },
        "id": "g-u-oXxNejl2",
        "outputId": "8b42f80f-790f-4e0e-fdb2-3295f17ad4d3"
      },
      "execution_count": 12,
      "outputs": [
        {
          "output_type": "stream",
          "name": "stdout",
          "text": [
            "[[ 2  5]\n",
            " [45 33]] \n",
            "\n",
            "[[ 23  54]\n",
            " [445 333]] \n",
            "\n",
            "[[25, 59], [490, 366]]\n"
          ]
        }
      ]
    },
    {
      "cell_type": "code",
      "source": [
        "x_1 = np.array([[234,43],[456,54]])\n",
        "y_1 = np.array([[123,45],[678,90]])\n",
        "\n",
        "rows = 2\n",
        "columns = 2\n",
        "\n",
        "z_1 = [[0,0],[0,0]]\n",
        "\n",
        "for r in range(rows):\n",
        "  for c in range(columns):\n",
        "    z_1[r][c] = x_1[r][c] - y_1[r][c]\n",
        "\n",
        "print(x_1 , \"\\n\")\n",
        "print(y_1 , \"\\n\")\n",
        "print(z_1)"
      ],
      "metadata": {
        "colab": {
          "base_uri": "https://localhost:8080/"
        },
        "id": "3iaKDzhig08z",
        "outputId": "cd6b4622-d0ad-42c2-efb7-d7635db082d1"
      },
      "execution_count": 15,
      "outputs": [
        {
          "output_type": "stream",
          "name": "stdout",
          "text": [
            "[[234  43]\n",
            " [456  54]] \n",
            "\n",
            "[[123  45]\n",
            " [678  90]] \n",
            "\n",
            "[[111, -2], [-222, -36]]\n"
          ]
        }
      ]
    }
  ]
}